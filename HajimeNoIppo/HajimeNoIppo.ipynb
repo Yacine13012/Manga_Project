{
 "cells": [
  {
   "cell_type": "markdown",
   "id": "99d74e10",
   "metadata": {},
   "source": [
    "\n",
    "   # Extraction from IMDB\n"
   ]
  },
  {
   "cell_type": "markdown",
   "id": "b6408c30",
   "metadata": {},
   "source": [
    "### Install the following library if not already installed"
   ]
  },
  {
   "cell_type": "markdown",
   "id": "a4d96955-d62f-4614-965a-4286124bf011",
   "metadata": {},
   "source": [
    "#### Pandas\n",
    "%pip install pandas\n",
    "\n",
    "#### Python Dotenv\n",
    "%pip install python-dotenv\n",
    "\n",
    "#### Beautiful soup\n",
    "%pip install bs4\n",
    "\n",
    "#### MySQL Connector\n",
    "%pip install mysql-connector-python\n",
    "\n",
    "#### Selenium\n",
    "%pip install selenium"
   ]
  },
  {
   "cell_type": "markdown",
   "id": "ee7efa7a",
   "metadata": {},
   "source": [
    "#### Import Library necessary for the Project"
   ]
  },
  {
   "cell_type": "code",
   "execution_count": 5,
   "id": "9acdfd85",
   "metadata": {},
   "outputs": [
    {
     "ename": "ModuleNotFoundError",
     "evalue": "No module named 'Manga_function'",
     "output_type": "error",
     "traceback": [
      "\u001b[1;31m---------------------------------------------------------------------------\u001b[0m",
      "\u001b[1;31mModuleNotFoundError\u001b[0m                       Traceback (most recent call last)",
      "Cell \u001b[1;32mIn[5], line 8\u001b[0m\n\u001b[0;32m      5\u001b[0m sys\u001b[38;5;241m.\u001b[39mpath\u001b[38;5;241m.\u001b[39minsert(\u001b[38;5;241m0\u001b[39m, os\u001b[38;5;241m.\u001b[39mpath\u001b[38;5;241m.\u001b[39mdirname((os\u001b[38;5;241m.\u001b[39mpath\u001b[38;5;241m.\u001b[39mabspath(os\u001b[38;5;241m.\u001b[39mgetcwd()))))\n\u001b[0;32m      7\u001b[0m \u001b[38;5;66;03m# Importing function create from Manga_function.py\u001b[39;00m\n\u001b[1;32m----> 8\u001b[0m \u001b[38;5;28;01mfrom\u001b[39;00m \u001b[38;5;21;01mManga_function\u001b[39;00m \u001b[38;5;28;01mimport\u001b[39;00m write_to_file, create_list, create_soup, extract_date, extract_episod, extract_link, extract_title \n\u001b[0;32m     10\u001b[0m \u001b[38;5;66;03m# MySQL connector\u001b[39;00m\n\u001b[0;32m     11\u001b[0m \u001b[38;5;28;01mimport\u001b[39;00m \u001b[38;5;21;01mmysql\u001b[39;00m\u001b[38;5;21;01m.\u001b[39;00m\u001b[38;5;21;01mconnector\u001b[39;00m\n",
      "\u001b[1;31mModuleNotFoundError\u001b[0m: No module named 'Manga_function'"
     ]
    }
   ],
   "source": [
    "# importing os ans sys modules\n",
    "import os\n",
    "import sys\n",
    "\n",
    "# Navigate to project directory to import modules\n",
    "\n",
    "sys.path.insert(0, os.path.dirname(os.getcwd()))\n",
    "\n",
    "# Importing function create from Manga_function.py\n",
    "from Functions.Manga_function import write_to_file, create_list, create_soup, extract_date, extract_episod, extract_link, extract_title \n",
    "\n",
    "# MySQL connector\n",
    "import mysql.connector\n",
    "\n",
    "# Web driver \n",
    "from selenium import webdriver\n",
    "# Beautiful soup\n",
    "from bs4 import BeautifulSoup # this module helps in web scrapping.\n",
    "\n",
    "# Pandas\n",
    "import pandas as pd\n",
    "\n",
    "# importing os module for environment variables\n",
    "import os\n",
    "\n",
    "# time\n",
    "import time\n",
    "from datetime import datetime\n",
    "\n",
    "# importing necessary functions from dotenv library\n",
    "from dotenv import load_dotenv\n",
    "\n",
    "# loading variables from .env file\n",
    "load_dotenv() \n"
   ]
  },
  {
   "cell_type": "code",
   "execution_count": null,
   "id": "2a7d61f0",
   "metadata": {},
   "outputs": [],
   "source": [
    "sys.path.insert(0, project_dir)\n",
    "write_to_file(\"test.txt\",\"test directory\")"
   ]
  },
  {
   "cell_type": "markdown",
   "id": "e2da5b65",
   "metadata": {},
   "source": [
    "#### Connect to the database, create table \"IMBD\" if it doesn't exist and extract the number of row"
   ]
  },
  {
   "cell_type": "code",
   "execution_count": 9,
   "id": "5dd88d9c",
   "metadata": {},
   "outputs": [],
   "source": [
    "# Initialize variables\n",
    "\n",
    "host = os.getenv(\"MYSQL_HOSTNAME\")\n",
    "user = os.getenv(\"MYSQL_USERNAME\")\n",
    "password = os.getenv(\"MYSQL_PASSWORD\")\n",
    "database = \"manga\"\n",
    "table_name = \"HajimeNoIppo\"\n",
    "manga_name = \"Hajime No Ippo\"\n",
    "csv_file = table_name + \".csv\"\n",
    "log_file = table_name + \".txt\"\n",
    "url = os.getenv(\"URL\")\n",
    "\n",
    "# Navigate to current folder\n",
    "sys.path.insert(0, base_dir)\n",
    "print(f\"Directory: {os.path.abspath(os.getcwd())}\")"
   ]
  },
  {
   "cell_type": "code",
   "execution_count": 10,
   "id": "7d68a42b",
   "metadata": {},
   "outputs": [],
   "source": [
    "write_to_file(log_file, f\"Connecting to MySQL {database} database\")\n",
    "\n",
    "# Connect to the database\n",
    "try:\n",
    "\n",
    "    cnx = mysql.connector.connect(\n",
    "        host=host,\n",
    "        user=user,\n",
    "        password=password,\n",
    "        database=database,\n",
    "        port=3306\n",
    "    )\n",
    "\n",
    "    write_to_file(log_file, f\"Connected to {database} database\")\n",
    "\n",
    "    # Create a cursor object\n",
    "    cursor = cnx.cursor()\n",
    "\n",
    "except mysql.connector.Error as err:\n",
    "    print(f\"Error: {err}\")"
   ]
  },
  {
   "cell_type": "code",
   "execution_count": 11,
   "id": "7b901838",
   "metadata": {},
   "outputs": [],
   "source": [
    "write_to_file(log_file, f\"Creating table {table_name} into {database} if doesn't exist\")\n",
    "\n",
    "# Create Table into MYSQL\n",
    "try:\n",
    "\n",
    "    # Create a cursor object\n",
    "    cursor = cnx.cursor()\n",
    "\n",
    "    # SQL statement to create the table\n",
    "    sql = '''CREATE TABLE IF NOT EXISTS ''' + table_name + ''' (\n",
    "        Episod INT UNIQUE NOT NULL PRIMARY KEY,\n",
    "        Season INT NOT NULL,\n",
    "        Episod_season INT NOT NULL,\n",
    "        Title VARCHAR(255),\n",
    "        Day INT,\n",
    "        Month INT,\n",
    "        Year INT NOT NULL,\n",
    "        Rate DOUBLE,\n",
    "        Link VARCHAR(255)\n",
    "    )\n",
    "'''\n",
    "\n",
    "    # Execute the SQL statement\n",
    "    cursor.execute(sql)\n",
    "\n",
    "    # Commit the changes to the database\n",
    "    cnx.commit()\n",
    "\n",
    "    write_to_file(log_file, f\"Table {table_name} created into {database} successfully\")\n",
    "\n",
    "except mysql.connector.Error as err:\n",
    "    print(f\"Error: {err}\")"
   ]
  },
  {
   "cell_type": "code",
   "execution_count": 12,
   "id": "0abdb348",
   "metadata": {},
   "outputs": [],
   "source": [
    "write_to_file(log_file, f\"Extracting number total of episode and number of episod already in {table_name} table\")\n",
    "\n",
    "# Extract total of number of episod at this time\n",
    "\n",
    "number_tot_ep = 76\n",
    "\n",
    "write_to_file(log_file, f\"There are {number_tot_ep} {manga_name} episods\")\n",
    "\n",
    "# Extract number of episod in database\n",
    "try:\n",
    "         # Execute a query\n",
    "    cursor.execute(f\"SELECT COUNT(*) FROM {table_name}\")\n",
    "    number_ep_database = cursor.fetchall()\n",
    "    number_ep_database = int(number_ep_database[0][0])\n",
    "\n",
    "    write_to_file(log_file, f\"There is(are) {number_ep_database} episod(s) already in {table_name} table\")\n",
    "\n",
    "\n",
    "except mysql.connector.Error as err:\n",
    "    print(f\"Error: {err}\")\n",
    "\n",
    "number_ep_to_extract = number_tot_ep - number_ep_database\n",
    "\n",
    "write_to_file(log_file, f\"There is(are) {number_ep_to_extract} episod(s) to extract\")\n",
    "\n",
    "if number_ep_to_extract == 0 :\n",
    "    write_to_file(log_file, f\"Program stopped because there is no data to extract\")\n",
    "    raise SystemExit(\"System stop because there is no episod to extract\")"
   ]
  },
  {
   "cell_type": "code",
   "execution_count": 13,
   "id": "61d8e15c",
   "metadata": {},
   "outputs": [],
   "source": [
    "# find the first link to extract\n",
    "\n",
    "if number_ep_database == 0:\n",
    "    link  = \"https://www.imdb.com/title/tt1484155\"\n",
    "else:\n",
    "    # Extract last link in database\n",
    "    try:\n",
    "            # Execute a query\n",
    "        cursor.execute(f\"SELECT link from {table_name} order by Episod desc limit 1\")\n",
    "        link = cursor.fetchall()\n",
    "        link = str(link[0][0])\n",
    "    except mysql.connector.Error as err:\n",
    "        print(f\"Error: {err}\")\n",
    "           \n",
    "    soup = create_soup(link)\n",
    "    link = soup.find_all('a', class_='ipc-icon-button sc-3f4e3993-3 iasCTO ipc-icon-button--baseAlt ipc-icon-button--onBase')[1].attrs['href']\n",
    "    link = extract_link(link)"
   ]
  },
  {
   "cell_type": "code",
   "execution_count": 14,
   "id": "047b47eb",
   "metadata": {},
   "outputs": [],
   "source": [
    "create_list(\"season_list\",\"episod_season_list\",\"episod_list\",\"title_list\",\"rating_list\",\"day_list\",\"month_list\",\"year_list\",\"link_list\")\n",
    "\n",
    "link_list.append(link)\n",
    "\n",
    "\n",
    "for i in range(number_ep_to_extract):\n",
    "\n",
    "    try:\n",
    "\n",
    "        write_to_file(log_file, f\"Extracting episod {number_ep_database+1+i} from {link}\")\n",
    "        soup = create_soup(link)\n",
    "        \n",
    "        # Season and Episod\n",
    "        ep = soup.find('div', class_=\"sc-3f4e3993-0 fYpskP\").text\n",
    "        season,episod_season = extract_episod(ep)\n",
    "        season_list.append(season)\n",
    "        episod_season_list.append(episod_season)\n",
    "        \n",
    "        # Title\n",
    "        title = extract_title(soup.find('span', class_=\"hero__primary-text\").text)\n",
    "        title_list.append(title)\n",
    "\n",
    "        #Rating\n",
    "        rate = soup.find('span', class_=\"sc-c4ffe080-1 iQZtLP\").text.replace(\",\",\".\")\n",
    "        rating_list.append(float(rate))\n",
    "\n",
    "        # Date\n",
    "        date = soup.find_all('li', class_=\"ipc-inline-list__item\")\n",
    "        day,month,year = extract_date(date)\n",
    "        day_list.append(day)\n",
    "        month_list.append(month)\n",
    "        year_list.append(year)\n",
    "\n",
    "        #Link \n",
    "        if i == 0 and number_ep_database == 0: \n",
    "            link = soup.find('a', class_='ipc-icon-button sc-3f4e3993-3 iasCTO ipc-icon-button--baseAlt ipc-icon-button--onBase').attrs['href']\n",
    "        else:\n",
    "            link = soup.find_all('a', class_='ipc-icon-button sc-3f4e3993-3 iasCTO ipc-icon-button--baseAlt ipc-icon-button--onBase')[1].attrs['href']\n",
    "\n",
    "        if i < number_ep_to_extract - 1:        \n",
    "            link = extract_link(link)\n",
    "            link_list.append(link)\n",
    "\n",
    "        i = i+1\n",
    "\n",
    "    except IndexError:\n",
    "        pass         \n",
    "\n",
    "    except WebDriverException as E: \n",
    "        write_to_file(log_file, f\"Extracting episod {number_ep_database+1+i} from {link} failed\")\n",
    "\n",
    "number_ep_extracted = i \n",
    "\n",
    "episode_list = list(range(number_ep_database + 1, number_ep_database + 1 + number_ep_extracted))\n"
   ]
  },
  {
   "cell_type": "code",
   "execution_count": 15,
   "id": "cb55a452",
   "metadata": {},
   "outputs": [],
   "source": [
    "if len(link_list) > len(episod_list):\n",
    "    del link_list[-1]"
   ]
  },
  {
   "cell_type": "code",
   "execution_count": 17,
   "id": "19e3085e",
   "metadata": {},
   "outputs": [],
   "source": [
    "data = {\"Episod\":episod_list,\"Season\":season_list,\"Episod_season_list\":episod_season_list, \"Title\":title_list, \"Day\":day_list, \"Month\":month_list, \"Year\":year_list, \"Rate\":rating_list, \"link\":link_list}\n",
    "df = pd.DataFrame(data)\n",
    "df.to_csv(csv_file,index=False,mode= \"a\")\n",
    "df"
   ]
  },
  {
   "cell_type": "code",
   "execution_count": 18,
   "id": "6d0b591c",
   "metadata": {},
   "outputs": [],
   "source": [
    "if df.shape[0] == number_ep_to_extract:\n",
    "    write_to_file(log_file,f\"Extracting {number_ep_to_extract} episod successfuly\")\n",
    "else:\n",
    "    write_to_file(log_file,f\"Extraction failed\")"
   ]
  },
  {
   "cell_type": "code",
   "execution_count": 19,
   "id": "cef98acd",
   "metadata": {},
   "outputs": [],
   "source": [
    "write_to_file(log_file,f\"Sending {len(df)} rows to MySQL table '{table_name}'.\")\n",
    "try:\n",
    "    # Create a list of column names from the DataFrame\n",
    "    columns = ', '.join(df.columns)\n",
    "\n",
    "    # Create a placeholders string for the SQL query\n",
    "    placeholders = ', '.join(['%s'] * len(df.columns))\n",
    "\n",
    "    # Create the SQL query\n",
    "    sql = f\"INSERT INTO {table_name} ({columns}) VALUES ({placeholders})\"\n",
    "\n",
    "    # Execute the SQL query with the DataFrame values\n",
    "    cursor.executemany(sql, df.values.tolist())\n",
    "\n",
    "    # Commit the changes to the database\n",
    "    cnx.commit()\n",
    "\n",
    "    write_to_file(log_file,f\"Successfully sent {len(df)} rows to MySQL table '{table_name}'.\")\n",
    "except mysql.connector.Error as e:\n",
    "    print(f\"Error sending data to MySQL: {e}\")\n",
    "finally:\n",
    "    # Close the database cursor and connection\n",
    "    if cursor:\n",
    "        cursor.close()\n",
    "    if cnx:\n",
    "        cnx.close()"
   ]
  }
 ],
 "metadata": {
  "kernelspec": {
   "display_name": "Python 3 (ipykernel)",
   "language": "python",
   "name": "python3"
  },
  "language_info": {
   "codemirror_mode": {
    "name": "ipython",
    "version": 3
   },
   "file_extension": ".py",
   "mimetype": "text/x-python",
   "name": "python",
   "nbconvert_exporter": "python",
   "pygments_lexer": "ipython3",
   "version": "3.11.0"
  }
 },
 "nbformat": 4,
 "nbformat_minor": 5
}
