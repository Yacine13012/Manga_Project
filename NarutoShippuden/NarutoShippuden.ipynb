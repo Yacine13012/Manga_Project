{
 "cells": [
  {
   "cell_type": "markdown",
   "id": "a476754f",
   "metadata": {},
   "source": [
    "\n",
    "   # Naruto Shippuden\n"
   ]
  },
  {
   "cell_type": "markdown",
   "id": "94709209",
   "metadata": {},
   "source": [
    "### Install the following library if not already installed"
   ]
  },
  {
   "cell_type": "markdown",
   "id": "6433eb53",
   "metadata": {},
   "source": [
    "##### Pandas\n",
    "%pip install pandas\n",
    "\n",
    "##### Python Dotenv\n",
    "%pip install python-dotenv\n",
    "\n",
    "##### Requests\n",
    "%pip install requests\n",
    "\n",
    "##### Beautiful soup\n",
    "%pip install bs4\n",
    "\n",
    "##### MySQL Connector\n",
    "%pip install mysql-connector-python\n",
    "\n",
    "##### Selenium\n",
    "%pip install selenium"
   ]
  },
  {
   "cell_type": "markdown",
   "id": "278afb04",
   "metadata": {},
   "source": [
    "#### Import Library necessary for the Project"
   ]
  },
  {
   "cell_type": "code",
   "execution_count": 1,
   "id": "fe181d07",
   "metadata": {},
   "outputs": [
    {
     "data": {
      "text/plain": [
       "True"
      ]
     },
     "execution_count": 1,
     "metadata": {},
     "output_type": "execute_result"
    }
   ],
   "source": [
    "# importing os ans sys modules\n",
    "import os\n",
    "import sys\n",
    "\n",
    "# Navigate to project directory to import modules\n",
    "\n",
    "sys.path.insert(0, os.path.dirname(os.getcwd()))\n",
    "\n",
    "# Importing function create from Manga_function.py\n",
    "from Functions.Manga_function import write_to_file, create_soup, extract_date, extract_episod, extract_link, extract_title\n",
    "\n",
    "# MySQL connector\n",
    "import mysql.connector\n",
    "\n",
    "# Pandas\n",
    "import pandas as pd\n",
    "\n",
    "# importing os module for environment variables\n",
    "import os\n",
    "\n",
    "# importing necessary functions from dotenv library\n",
    "from dotenv import load_dotenv\n",
    "\n",
    "# loading variables from .env file\n",
    "load_dotenv() \n"
   ]
  },
  {
   "cell_type": "markdown",
   "id": "e2da5b65",
   "metadata": {},
   "source": [
    "#### Connect to the database, create table \"IMBD\" if it doesn't exist and extract the number of row"
   ]
  },
  {
   "cell_type": "code",
   "execution_count": 2,
   "id": "5dd88d9c",
   "metadata": {},
   "outputs": [],
   "source": [
    "# Initialize variables\n",
    "host = os.getenv(\"MYSQL_HOSTNAME\")\n",
    "user = os.getenv(\"MYSQL_USERNAME\")\n",
    "password = os.getenv(\"MYSQL_PASSWORD\")\n",
    "database = \"manga\"\n",
    "table_name = \"NarutoShippuden\"\n",
    "manga_name = \"NarutoShippuden\"\n",
    "csv_file = table_name + \".csv\"\n",
    "log_file = table_name + \".txt\"\n",
    "url = os.getenv(\"URL\")"
   ]
  },
  {
   "cell_type": "code",
   "execution_count": 3,
   "id": "7d68a42b",
   "metadata": {},
   "outputs": [],
   "source": [
    "write_to_file(log_file, f\"Connecting to MySQL {database} database\",\"w\")\n",
    "\n",
    "# Connect to the database\n",
    "try:\n",
    "\n",
    "    cnx = mysql.connector.connect(\n",
    "        host=host,\n",
    "        user=user,\n",
    "        password=password,\n",
    "        database=database,\n",
    "        port=3306\n",
    "    )\n",
    "\n",
    "    write_to_file(log_file, f\"Connected to {database} database\")\n",
    "\n",
    "    # Create a cursor object\n",
    "    cursor = cnx.cursor()\n",
    "\n",
    "except mysql.connector.Error as err:\n",
    "    print(f\"Error: {err}\")"
   ]
  },
  {
   "cell_type": "code",
   "execution_count": 4,
   "id": "7b901838",
   "metadata": {},
   "outputs": [],
   "source": [
    "write_to_file(log_file, f\"Creating table {table_name} into {database} if doesn't exist\")\n",
    "\n",
    "# Create Table into MYSQL\n",
    "try:\n",
    "\n",
    "    # Create a cursor object\n",
    "    cursor = cnx.cursor()\n",
    "\n",
    "    # SQL statement to create the table\n",
    "    sql = '''CREATE TABLE IF NOT EXISTS ''' + table_name + ''' (\n",
    "        Episod INT UNIQUE NOT NULL PRIMARY KEY,\n",
    "        Season INT NOT NULL,\n",
    "        Episod_season INT NOT NULL,\n",
    "        Title VARCHAR(255),\n",
    "        Day INT,\n",
    "        Month INT,\n",
    "        Year INT NOT NULL,\n",
    "        Rate DOUBLE,\n",
    "        Link VARCHAR(255)\n",
    "    )\n",
    "'''\n",
    "\n",
    "    # Execute the SQL statement\n",
    "    cursor.execute(sql)\n",
    "\n",
    "    # Commit the changes to the database\n",
    "    cnx.commit()\n",
    "\n",
    "    write_to_file(log_file, f\"Table {table_name} created into {database} successfully\")\n",
    "\n",
    "except mysql.connector.Error as err:\n",
    "    print(f\"Error: {err}\")"
   ]
  },
  {
   "cell_type": "code",
   "execution_count": 5,
   "id": "0abdb348",
   "metadata": {},
   "outputs": [],
   "source": [
    "write_to_file(log_file, f\"Extracting number total of episode and number of episod already in {table_name} table\")\n",
    "\n",
    "number_tot_ep = 500\n",
    "\n",
    "write_to_file(log_file, f\"There are {number_tot_ep} {manga_name} episods\")\n",
    "\n",
    "# Extract number of episod in database\n",
    "try:\n",
    "         # Execute a query\n",
    "    cursor.execute(f\"SELECT COUNT(*) FROM {table_name}\")\n",
    "    number_ep_database = cursor.fetchall()\n",
    "    number_ep_database = int(number_ep_database[0][0])\n",
    "\n",
    "    write_to_file(log_file, f\"There is(are) {number_ep_database} episod(s) already in {table_name} table\")\n",
    "\n",
    "\n",
    "except mysql.connector.Error as err:\n",
    "    print(f\"Error: {err}\")\n",
    "\n",
    "number_ep_to_extract = number_tot_ep - number_ep_database\n",
    "\n",
    "write_to_file(log_file, f\"There is(are) {number_ep_to_extract} episod(s) to extract\")\n",
    "\n",
    "if number_ep_to_extract == 0 :\n",
    "    write_to_file(log_file, f\"Program stopped because there is no data to extract\")\n",
    "    raise SystemExit(\"System stop because there is no episod to extract\")\n",
    "else:\n",
    "    while number_ep_to_extract > 0:\n",
    "        if number_ep_to_extract > 40:\n",
    "            batch_ep_to_extract = 40\n",
    "        else:\n",
    "            batch_ep_to_extract = number_ep_to_extract\n",
    "\n",
    "        write_to_file(log_file, f\"Extracting {batch_ep_to_extract} episod(s)\")\n",
    "\n",
    "        %run C:\\Users\\yacbo\\Documents\\Data_Engineer\\Training\\Manga_Project\\NarutoShippuden\\NarutoShippuden_ETL.ipynb\n",
    "\n",
    "        # Extract number of episod in database\n",
    "        try:\n",
    "                # Execute a query\n",
    "            cursor.execute(f\"SELECT COUNT(*) FROM {table_name}\")\n",
    "            number_ep_database = cursor.fetchall()\n",
    "            number_ep_database = int(number_ep_database[0][0])\n",
    "\n",
    "            write_to_file(log_file, f\"There is(are) {number_ep_database} episod(s) already in {table_name} table\")\n",
    "\n",
    "\n",
    "        except mysql.connector.Error as err:\n",
    "            print(f\"Error: {err}\")\n",
    "\n",
    "        number_ep_to_extract = number_tot_ep - number_ep_database\n",
    "\n",
    "        write_to_file(log_file, f\"There is(are) {number_ep_to_extract} episod(s) to extract\")\n",
    "\n",
    "# Close the database cursor and connection\n",
    "if cursor:\n",
    "    cursor.close()\n",
    "if cnx:\n",
    "    cnx.close()"
   ]
  }
 ],
 "metadata": {
  "kernelspec": {
   "display_name": "Python 3 (ipykernel)",
   "language": "python",
   "name": "python3"
  },
  "language_info": {
   "codemirror_mode": {
    "name": "ipython",
    "version": 3
   },
   "file_extension": ".py",
   "mimetype": "text/x-python",
   "name": "python",
   "nbconvert_exporter": "python",
   "pygments_lexer": "ipython3",
   "version": "3.11.0"
  }
 },
 "nbformat": 4,
 "nbformat_minor": 5
}
