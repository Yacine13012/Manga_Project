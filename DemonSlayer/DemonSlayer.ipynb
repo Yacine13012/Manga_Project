{
 "cells": [
  {
   "cell_type": "markdown",
   "id": "99d74e10",
   "metadata": {},
   "source": [
    "\n",
    "   # Extraction from IMDB\n"
   ]
  },
  {
   "cell_type": "markdown",
   "id": "1cfd125a",
   "metadata": {},
   "source": [
    "### Install the following library if not already installed"
   ]
  },
  {
   "cell_type": "markdown",
   "id": "ee7efa7a",
   "metadata": {},
   "source": [
    "#### Import Library necessary for the Project"
   ]
  },
  {
   "cell_type": "code",
   "execution_count": 1,
   "id": "9acdfd85",
   "metadata": {},
   "outputs": [
    {
     "data": {
      "text/plain": [
       "True"
      ]
     },
     "execution_count": 1,
     "metadata": {},
     "output_type": "execute_result"
    }
   ],
   "source": [
    "# importing os ans sys modules\n",
    "import os\n",
    "import sys\n",
    "\n",
    "# Navigate to project directory to import modules\n",
    "\n",
    "sys.path.insert(0, os.path.dirname(os.getcwd()))\n",
    "\n",
    "# Importing function create from Manga_function.py\n",
    "from Functions.Manga_function import write_to_file, create_soup, extract_date, extract_episod, extract_link, extract_title \n",
    "\n",
    "# MySQL connector\n",
    "import mysql.connector\n",
    "\n",
    "# Pandas\n",
    "import pandas as pd\n",
    "\n",
    "# importing os module for environment variables\n",
    "import os\n",
    "\n",
    "# importing necessary functions from dotenv library\n",
    "from dotenv import load_dotenv\n",
    "\n",
    "# loading variables from .env file\n",
    "load_dotenv() \n"
   ]
  },
  {
   "cell_type": "markdown",
   "id": "e2da5b65",
   "metadata": {},
   "source": [
    "#### Connect to the database, create manga table if it doesn't exist and extract the number of row"
   ]
  },
  {
   "cell_type": "code",
   "execution_count": 2,
   "id": "5dd88d9c",
   "metadata": {},
   "outputs": [],
   "source": [
    "# Initialize variables\n",
    "host = os.getenv(\"MYSQL_HOSTNAME\")\n",
    "user = os.getenv(\"MYSQL_USERNAME\")\n",
    "password = os.getenv(\"MYSQL_PASSWORD\")\n",
    "database = \"manga\"\n",
    "table_name = \"DemonSlayer\"\n",
    "manga_name = \"Demon Slayer\"\n",
    "csv_file = table_name + \".csv\"\n",
    "log_file = table_name + \".txt\"\n",
    "url = os.getenv(\"URL\")"
   ]
  },
  {
   "cell_type": "code",
   "execution_count": 3,
   "id": "7d68a42b",
   "metadata": {},
   "outputs": [],
   "source": [
    "write_to_file(log_file, f\"Connecting to MySQL {database} database\")\n",
    "\n",
    "# Connect to the database\n",
    "try:\n",
    "\n",
    "    cnx = mysql.connector.connect(\n",
    "        host=host,\n",
    "        user=user,\n",
    "        password=password,\n",
    "        database=database,\n",
    "        port=3306\n",
    "    )\n",
    "\n",
    "    write_to_file(log_file, f\"Connected to {database} database\")\n",
    "\n",
    "    # Create a cursor object\n",
    "    cursor = cnx.cursor()\n",
    "\n",
    "except mysql.connector.Error as err:\n",
    "    print(f\"Error: {err}\")"
   ]
  },
  {
   "cell_type": "code",
   "execution_count": 4,
   "id": "7b901838",
   "metadata": {},
   "outputs": [],
   "source": [
    "write_to_file(log_file, f\"Creating table {table_name} into {database} if doesn't exist\")\n",
    "\n",
    "# Create Table into MYSQL\n",
    "try:\n",
    "\n",
    "    # Create a cursor object\n",
    "    cursor = cnx.cursor()\n",
    "\n",
    "    # SQL statement to create the table\n",
    "    sql = '''CREATE TABLE IF NOT EXISTS ''' + table_name + ''' (\n",
    "        Episod INT UNIQUE NOT NULL PRIMARY KEY,\n",
    "        Season INT NOT NULL,\n",
    "        Episod_season INT NOT NULL,\n",
    "        Title VARCHAR(255),\n",
    "        Day INT,\n",
    "        Month INT,\n",
    "        Year INT NOT NULL,\n",
    "        Rate DOUBLE,\n",
    "        Link VARCHAR(255)\n",
    "    )\n",
    "'''\n",
    "\n",
    "    # Execute the SQL statement\n",
    "    cursor.execute(sql)\n",
    "\n",
    "    # Commit the changes to the database\n",
    "    cnx.commit()\n",
    "\n",
    "    write_to_file(log_file, f\"Table {table_name} created into {database} successfully\")\n",
    "\n",
    "except mysql.connector.Error as err:\n",
    "    print(f\"Error: {err}\")"
   ]
  },
  {
   "cell_type": "code",
   "execution_count": 5,
   "id": "0abdb348",
   "metadata": {},
   "outputs": [],
   "source": [
    "write_to_file(log_file, f\"Extracting number total of episode and number of episod already in {table_name} table\")\n",
    "\n",
    "# Extract number of One piece episod\n",
    "\n",
    "number_tot_ep = 63\n",
    "\n",
    "write_to_file(log_file, f\"There are {number_tot_ep} {manga_name} episods\")\n",
    "\n",
    "# Extract number of episod in database\n",
    "try:\n",
    "         # Execute a query\n",
    "    cursor.execute(f\"SELECT COUNT(*) FROM {table_name}\")\n",
    "    number_ep_database = cursor.fetchall()\n",
    "    number_ep_database = int(number_ep_database[0][0])\n",
    "\n",
    "    write_to_file(log_file, f\"There is(are) {number_ep_database} episod(s) already in {table_name} table\")\n",
    "\n",
    "\n",
    "except mysql.connector.Error as err:\n",
    "    print(f\"Error: {err}\")\n",
    "\n",
    "number_ep_to_extract = number_tot_ep - number_ep_database\n",
    "\n",
    "write_to_file(log_file, f\"There is(are) {number_ep_to_extract} episod(s) to extract\")\n",
    "\n",
    "if number_ep_to_extract == 0 :\n",
    "    write_to_file(log_file, f\"Program stopped because there is no data to extract\")\n",
    "    raise SystemExit(\"System stop because there is no episod to extract\")"
   ]
  },
  {
   "cell_type": "code",
   "execution_count": 6,
   "id": "61d8e15c",
   "metadata": {},
   "outputs": [],
   "source": [
    "# find the first link to extract\n",
    "\n",
    "if number_ep_database == 0:\n",
    "    link  = url\n",
    "else:\n",
    "    # Extract last link in database\n",
    "    try:\n",
    "            # Execute a query\n",
    "        cursor.execute(f\"SELECT link from {table_name} order by Episod desc limit 1\")\n",
    "        link = cursor.fetchall()\n",
    "        link = str(link[0][0])\n",
    "    except mysql.connector.Error as err:\n",
    "        print(f\"Error: {err}\")\n",
    "           \n",
    "    soup = create_soup(link)\n",
    "    link = soup.find_all('a', class_='ipc-icon-button sc-3f4e3993-3 iasCTO ipc-icon-button--baseAlt ipc-icon-button--onBase')[1].attrs['href']\n",
    "    link = extract_link(link)"
   ]
  },
  {
   "cell_type": "code",
   "execution_count": 12,
   "id": "047b47eb",
   "metadata": {},
   "outputs": [
    {
     "ename": "NameError",
     "evalue": "name 'WebDriverException' is not defined",
     "output_type": "error",
     "traceback": [
      "\u001b[1;31m---------------------------------------------------------------------------\u001b[0m",
      "\u001b[1;31mValueError\u001b[0m                                Traceback (most recent call last)",
      "Cell \u001b[1;32mIn[12], line 26\u001b[0m\n\u001b[0;32m     25\u001b[0m ep \u001b[38;5;241m=\u001b[39m soup\u001b[38;5;241m.\u001b[39mfind(\u001b[38;5;124m'\u001b[39m\u001b[38;5;124mdiv\u001b[39m\u001b[38;5;124m'\u001b[39m, class_\u001b[38;5;241m=\u001b[39m\u001b[38;5;124m\"\u001b[39m\u001b[38;5;124msc-3f4e3993-0 fYpskP\u001b[39m\u001b[38;5;124m\"\u001b[39m)\u001b[38;5;241m.\u001b[39mtext\n\u001b[1;32m---> 26\u001b[0m season,episod_season \u001b[38;5;241m=\u001b[39m \u001b[43mextract_episod\u001b[49m\u001b[43m(\u001b[49m\u001b[43mep\u001b[49m\u001b[43m)\u001b[49m\n\u001b[0;32m     27\u001b[0m season_list\u001b[38;5;241m.\u001b[39mappend(season)\n",
      "File \u001b[1;32mc:\\Users\\yacbo\\Documents\\Data_Engineer\\Training\\Manga_Project\\Functions\\Manga_function.py:75\u001b[0m, in \u001b[0;36mextract_episod\u001b[1;34m(ep)\u001b[0m\n\u001b[0;32m     74\u001b[0m ep_list \u001b[38;5;241m=\u001b[39m ep\u001b[38;5;241m.\u001b[39msplit(\u001b[38;5;124m\"\u001b[39m\u001b[38;5;124m.E\u001b[39m\u001b[38;5;124m\"\u001b[39m)\n\u001b[1;32m---> 75\u001b[0m season \u001b[38;5;241m=\u001b[39m \u001b[38;5;28;43mint\u001b[39;49m\u001b[43m(\u001b[49m\u001b[43mep_list\u001b[49m\u001b[43m[\u001b[49m\u001b[38;5;241;43m0\u001b[39;49m\u001b[43m]\u001b[49m\u001b[43m)\u001b[49m\n\u001b[0;32m     76\u001b[0m episod_season \u001b[38;5;241m=\u001b[39m \u001b[38;5;28mint\u001b[39m(ep_list[\u001b[38;5;241m1\u001b[39m])\n",
      "\u001b[1;31mValueError\u001b[0m: invalid literal for int() with base 10: 'S1'",
      "\nDuring handling of the above exception, another exception occurred:\n",
      "\u001b[1;31mNameError\u001b[0m                                 Traceback (most recent call last)",
      "Cell \u001b[1;32mIn[12], line 63\u001b[0m\n\u001b[0;32m     60\u001b[0m     \u001b[38;5;28;01mexcept\u001b[39;00m \u001b[38;5;167;01mIndexError\u001b[39;00m:\n\u001b[0;32m     61\u001b[0m         \u001b[38;5;28;01mpass\u001b[39;00m\n\u001b[1;32m---> 63\u001b[0m     \u001b[38;5;28;01mexcept\u001b[39;00m \u001b[43mWebDriverException\u001b[49m: \n\u001b[0;32m     64\u001b[0m         write_to_file(log_file, \u001b[38;5;124mf\u001b[39m\u001b[38;5;124m\"\u001b[39m\u001b[38;5;124mExtracting episod \u001b[39m\u001b[38;5;132;01m{\u001b[39;00mnumber_ep_database\u001b[38;5;241m+\u001b[39m\u001b[38;5;241m1\u001b[39m\u001b[38;5;241m+\u001b[39mi\u001b[38;5;132;01m}\u001b[39;00m\u001b[38;5;124m from \u001b[39m\u001b[38;5;132;01m{\u001b[39;00mlink\u001b[38;5;132;01m}\u001b[39;00m\u001b[38;5;124m failed\u001b[39m\u001b[38;5;124m\"\u001b[39m)\n\u001b[0;32m     66\u001b[0m number_ep_extracted \u001b[38;5;241m=\u001b[39m i \n",
      "\u001b[1;31mNameError\u001b[0m: name 'WebDriverException' is not defined"
     ]
    }
   ],
   "source": [
    "# Function to create list if doesn't exist\n",
    "def create_list(*args):\n",
    "    \"\"\"Create list if it doesn't exist\n",
    "    \"\"\"\n",
    "    mydict = {}\n",
    "    for arg in args:\n",
    "        if arg not in globals():           \n",
    "            mydict[arg] = list()\n",
    "    globals().update(mydict)\n",
    "\n",
    "\n",
    "\n",
    "create_list(\"season_list\",\"episod_season_list\",\"episod_list\",\"title_list\",\"rating_list\",\"day_list\",\"month_list\",\"year_list\",\"link_list\")\n",
    "\n",
    "link_list.append(link)\n",
    "\n",
    "for i in range(number_ep_to_extract):\n",
    "\n",
    "    try:\n",
    "\n",
    "        write_to_file(log_file, f\"Extracting episod {number_ep_database+1+i} from {link}\")\n",
    "        soup = create_soup(link)\n",
    "        \n",
    "        # Season and Episod\n",
    "        ep = soup.find('div', class_=\"sc-3f4e3993-0 fYpskP\").text\n",
    "        season,episod_season = extract_episod(ep)\n",
    "        season_list.append(season)\n",
    "        episod_season_list.append(episod_season)\n",
    "\n",
    "        # Title\n",
    "        title = extract_title(soup.find('span', class_=\"hero__primary-text\").text)\n",
    "        title_list.append(title)\n",
    "\n",
    "        # Date\n",
    "        date = soup.find_all('li', class_=\"ipc-inline-list__item\")\n",
    "        day,month,year = extract_date(date)\n",
    "        day_list.append(day)\n",
    "        month_list.append(month)\n",
    "        year_list.append(year)\n",
    "\n",
    "        #Rating\n",
    "        rate = soup.find('span', class_=\"sc-c4ffe080-1 iQZtLP\").text.replace(\",\",\".\")\n",
    "        rating_list.append(float(rate))\n",
    "\n",
    "        write_to_file(log_file, f\"Extracted correctly the following episod: Episode: {episod} | Title: {title} | Rate: {rate}\")\n",
    "\n",
    "        #Link \n",
    "\n",
    "        if i == 0 and number_ep_database == 0: \n",
    "            link = soup.find('a', class_='ipc-icon-button sc-3f4e3993-3 iasCTO ipc-icon-button--baseAlt ipc-icon-button--onBase').attrs['href']\n",
    "        else:\n",
    "            link = soup.find_all('a', class_='ipc-icon-button sc-3f4e3993-3 iasCTO ipc-icon-button--baseAlt ipc-icon-button--onBase')[1].attrs['href']\n",
    "\n",
    "        if i < number_ep_to_extract - 1:        \n",
    "            link = extract_link(link)\n",
    "            link_list.append(link)\n",
    "\n",
    "        i = i+1   \n",
    "\n",
    "    except IndexError:\n",
    "        pass\n",
    "        \n",
    "    except WebDriverException: \n",
    "        write_to_file(log_file, f\"Extracting episod {number_ep_database+1+i} from {link} failed\")\n",
    "\n",
    "number_ep_extracted = i \n",
    "\n",
    "episode_list = list(range(number_ep_database + 1, number_ep_database + 1 + number_ep_extracted))\n",
    "\n"
   ]
  },
  {
   "cell_type": "code",
   "execution_count": 15,
   "id": "cb55a452",
   "metadata": {},
   "outputs": [],
   "source": [
    "if len(link_list) > len(episod_list):\n",
    "    del link_list[-1]"
   ]
  },
  {
   "cell_type": "code",
   "execution_count": null,
   "id": "19e3085e",
   "metadata": {},
   "outputs": [],
   "source": [
    "data = {\"Episod\":episod_list,\"Season\":season_list,\"Episod_season_list\":episod_season_list, \"Title\":title_list, \"Day\":day_list, \"Month\":month_list, \"Year\":year_list, \"Rate\":rating_list, \"link\":link_list}\n",
    "df = pd.DataFrame(data)\n",
    "df.to_csv(csv_file,index=False,mode= \"a\")\n",
    "df"
   ]
  },
  {
   "cell_type": "code",
   "execution_count": 17,
   "id": "6d0b591c",
   "metadata": {},
   "outputs": [],
   "source": [
    "if df.shape[0] == number_ep_to_extract:\n",
    "    write_to_file(log_file,f\"Extracting {number_ep_to_extract} episod successfuly\")\n",
    "else:\n",
    "    write_to_file(log_file,f\"Extraction failed\")"
   ]
  },
  {
   "cell_type": "code",
   "execution_count": null,
   "id": "cef98acd",
   "metadata": {},
   "outputs": [],
   "source": [
    "write_to_file(log_file,f\"Sending {len(df)} rows to MySQL table '{table_name}'.\")\n",
    "try:\n",
    "    # Create a list of column names from the DataFrame\n",
    "    columns = ', '.join(df.columns)\n",
    "\n",
    "    # Create a placeholders string for the SQL query\n",
    "    placeholders = ', '.join(['%s'] * len(df.columns))\n",
    "\n",
    "    # Create the SQL query\n",
    "    sql = f\"INSERT INTO {table_name} ({columns}) VALUES ({placeholders})\"\n",
    "\n",
    "    # Execute the SQL query with the DataFrame values\n",
    "    cursor.executemany(sql, df.values.tolist())\n",
    "\n",
    "    # Commit the changes to the database\n",
    "    cnx.commit()\n",
    "\n",
    "    write_to_file(log_file,f\"Successfully sent {len(df)} rows to MySQL table '{table_name}'.\")\n",
    "except mysql.connector.Error as e:\n",
    "    print(f\"Error sending data to MySQL: {e}\")\n",
    "finally:\n",
    "    # Close the database cursor and connection\n",
    "    if cursor:\n",
    "        cursor.close()\n",
    "    if cnx:\n",
    "        cnx.close()"
   ]
  }
 ],
 "metadata": {
  "kernelspec": {
   "display_name": "Python 3 (ipykernel)",
   "language": "python",
   "name": "python3"
  },
  "language_info": {
   "codemirror_mode": {
    "name": "ipython",
    "version": 3
   },
   "file_extension": ".py",
   "mimetype": "text/x-python",
   "name": "python",
   "nbconvert_exporter": "python",
   "pygments_lexer": "ipython3",
   "version": "3.11.0"
  }
 },
 "nbformat": 4,
 "nbformat_minor": 5
}
