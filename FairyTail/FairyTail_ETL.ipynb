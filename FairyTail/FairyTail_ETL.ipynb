{
 "cells": [
  {
   "cell_type": "markdown",
   "id": "0b1433da",
   "metadata": {},
   "source": [
    "<font color='green' size= 6 ><b>Extract and Transform the data</b></font>"
   ]
  },
  {
   "cell_type": "code",
   "execution_count": null,
   "id": "047b47eb",
   "metadata": {},
   "outputs": [],
   "source": [
    "# create lists\n",
    "season_list = []\n",
    "episod_season_list = []\n",
    "episod_list= []\n",
    "title_list = []\n",
    "rating_list = []\n",
    "day_list= []\n",
    "month_list= []\n",
    "year_list = []\n",
    "link_list = []\n",
    "\n",
    "link =  (\"https://www.imdb.com/title/tt1528406/episodes/?season=\" + str(season_number))\n",
    "\n",
    "write_to_file(log_file, f\"Extracting {number_ep_season_to_extract} episod(s) from season {season_number} in the following {link}\")\n",
    "\n",
    "soup = create_soup(link)\n",
    "articles = soup.find_all('article')\n",
    "episod = number_ep_database\n",
    "\n",
    "for i in range((nb_ep_season[season_number-1] - number_ep_season_to_extract) , nb_ep_season[season_number-1]):\n",
    "    \n",
    "    try:\n",
    "        write_to_file(log_file, f\"Extracting episod {i+1}\")\n",
    "        \n",
    "        # Season, Episod of season, Episod, Title and Link\n",
    "        article = articles[i].find(\"div\",class_=\"ipc-title ipc-title--base ipc-title--title ipc-title-link-no-icon ipc-title--on-textPrimary sc-ccd6e31b-8 fPPYex\")\n",
    "        season = int(article.text.split(\" ∙ \")[0].split(\".E\")[0][1:])\n",
    "        season_list.append(season)\n",
    "\n",
    "        if season_number in [1,5,6,7,8]:\n",
    "            episod_season = int(article.text.split(\" ∙ \")[0].split(\".E\")[1])\n",
    "        else:\n",
    "            episod_season = i + 1\n",
    "        episod_season_list.append(episod_season)\n",
    "\n",
    "        episod = episod + 1\n",
    "        episod_list.append(episod)\n",
    "\n",
    "        title = article.text.split(\" ∙ \")[1].replace(\",\",\"\")\n",
    "        title_list.append(title)\n",
    "\n",
    "        link = extract_link(article.a.get(\"href\"))\n",
    "        link_list.append(link)\n",
    "\n",
    "        #Rating\n",
    "        rate = articles[i].find(\"span\",class_=\"ipc-rating-star--rating\").text.replace(\",\",\".\")\n",
    "        rating_list.append(float(rate))\n",
    "     \n",
    "        # Date\n",
    "        date = articles[i].find(\"span\",class_=\"sc-ccd6e31b-10 dYquTu\").text\n",
    "        day,month,year = extract_date(date)\n",
    "        day_list.append(day)\n",
    "        month_list.append(month)\n",
    "        year_list.append(year)\n",
    "     \n",
    "    except IndexError:\n",
    "        pass         \n",
    "\n",
    "    except WebDriverException as E: \n",
    "        write_to_file(log_file, f\"Extracting episod {i+1} failed\")\n",
    "\n",
    "    i = i+1"
   ]
  },
  {
   "cell_type": "markdown",
   "id": "f8345a2a",
   "metadata": {},
   "source": [
    "<font color='green' size= 6 ><b>Load the data</b></font>"
   ]
  },
  {
   "cell_type": "code",
   "execution_count": null,
   "id": "a453cddd",
   "metadata": {},
   "outputs": [],
   "source": [
    "# Create DataFrame of the data\n",
    "data = {\"Episod\":episod_list,\"Season\":season_list,\"Episod_season\":episod_season_list, \"Title\":title_list, \"Day\":day_list, \"Month\":month_list, \"Year\":year_list, \"Rate\":rating_list, \"link\":link_list}\n",
    "df = pd.DataFrame(data)\n",
    "\n",
    "# Check if all the data have been successfully extracted\n",
    "if df.shape[0] == number_ep_season_to_extract:\n",
    "    write_to_file(log_file,f\"Extracted {number_ep_season_to_extract} episod successfuly\")\n",
    "else:\n",
    "    write_to_file(log_file,f\"Extraction failed\")"
   ]
  },
  {
   "cell_type": "code",
   "execution_count": null,
   "id": "03047bb4",
   "metadata": {},
   "outputs": [],
   "source": [
    "# Load the data into a csv file\n",
    "df.to_csv(csv_file,index=False,mode= \"a\")"
   ]
  },
  {
   "cell_type": "code",
   "execution_count": null,
   "id": "704c9adc",
   "metadata": {},
   "outputs": [],
   "source": [
    "# Load the data into MySQL database\n",
    "\n",
    "write_to_file(log_file,f\"Sending {len(df)} rows to MySQL table '{table_name}'.\")\n",
    "try:\n",
    "    # Create a list of column names from the DataFrame\n",
    "    columns = ', '.join(df.columns)\n",
    "\n",
    "    # Create a placeholders string for the SQL query\n",
    "    placeholders = ', '.join(['%s'] * len(df.columns))\n",
    "\n",
    "    # Create the SQL query\n",
    "    sql = f\"INSERT INTO {table_name} ({columns}) VALUES ({placeholders})\"\n",
    "\n",
    "    # Execute the SQL query with the DataFrame values\n",
    "    cursor.executemany(sql, df.values.tolist())\n",
    "\n",
    "    # Commit the changes to the database\n",
    "    cnx.commit()\n",
    "\n",
    "    write_to_file(log_file,f\"Successfully sent {len(df)} rows to MySQL table '{table_name}'.\")\n",
    "except Exception as e:\n",
    "    write_to_file(log_file, f\"There is an error : {e}\")\n",
    "    # Close the database cursor and connection\n",
    "    if cursor:\n",
    "        cursor.close()\n",
    "    if cnx:\n",
    "        cnx.close()\n",
    "    raise"
   ]
  }
 ],
 "metadata": {
  "kernelspec": {
   "display_name": "Python 3 (ipykernel)",
   "language": "python",
   "name": "python3"
  },
  "language_info": {
   "codemirror_mode": {
    "name": "ipython",
    "version": 3
   },
   "file_extension": ".py",
   "mimetype": "text/x-python",
   "name": "python",
   "nbconvert_exporter": "python",
   "pygments_lexer": "ipython3",
   "version": "3.11.0"
  }
 },
 "nbformat": 4,
 "nbformat_minor": 5
}
