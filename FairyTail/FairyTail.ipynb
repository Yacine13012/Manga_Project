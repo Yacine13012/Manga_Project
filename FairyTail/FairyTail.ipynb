{
 "cells": [
  {
   "cell_type": "markdown",
   "id": "81598c34",
   "metadata": {},
   "source": [
    "<a align=\"center\">\n",
    "    <img src=\"FairyTail.webp\" width=\"500\">\n",
    "</a>"
   ]
  },
  {
   "cell_type": "markdown",
   "id": "021fb371",
   "metadata": {},
   "source": [
    "<font color='green' size= 6 ><b>Install the following library if not already installed</b></font>"
   ]
  },
  {
   "cell_type": "markdown",
   "id": "97472ae0",
   "metadata": {},
   "source": [
    "##### Pandas: %pip install pandas\n",
    "\n",
    "##### Python Dotenv: %pip install python-dotenv\n",
    "\n",
    "##### Requests: %pip install requests\n",
    "\n",
    "##### Beautiful soup: %pip install bs4\n",
    "\n",
    "##### MySQL Connector: %pip install mysql-connector-python\n",
    "\n",
    "##### Selenium: %pip install selenium"
   ]
  },
  {
   "cell_type": "markdown",
   "id": "3a00ce22",
   "metadata": {},
   "source": [
    "<font color='green' size= 6 ><b>Import Library necessary for the Project and define the variables and functions</b></font>"
   ]
  },
  {
   "cell_type": "code",
   "execution_count": 7,
   "id": "347b1f40",
   "metadata": {},
   "outputs": [
    {
     "data": {
      "text/plain": [
       "True"
      ]
     },
     "execution_count": 7,
     "metadata": {},
     "output_type": "execute_result"
    }
   ],
   "source": [
    "# importing os ans sys modules\n",
    "import os\n",
    "import sys\n",
    "\n",
    "# Navigate to project directory to import modules\n",
    "\n",
    "sys.path.insert(0, os.path.dirname(os.getcwd()))\n",
    "\n",
    "# Importing function create from Manga_function.py\n",
    "from Functions.Manga_function import write_to_file, create_soup, extract_date, extract_episod, extract_link, extract_title \n",
    "\n",
    "# MySQL connector\n",
    "import mysql.connector\n",
    "\n",
    "# Pandas\n",
    "import pandas as pd\n",
    "\n",
    "# importing os module for environment variables\n",
    "import os\n",
    "\n",
    "# importing necessary functions from dotenv library\n",
    "from dotenv import load_dotenv\n",
    "\n",
    "# loading variables from .env file\n",
    "load_dotenv() \n"
   ]
  },
  {
   "cell_type": "code",
   "execution_count": 8,
   "id": "767d3acb",
   "metadata": {},
   "outputs": [],
   "source": [
    "# Define the variables\n",
    "\n",
    "host = os.getenv(\"MYSQL_HOSTNAME\")\n",
    "user = os.getenv(\"MYSQL_USERNAME\")\n",
    "password = os.getenv(\"MYSQL_PASSWORD\")\n",
    "database = \"manga\"\n",
    "table_name = \"FairyTail\"\n",
    "manga_name = \"Fairy Tail\"\n",
    "csv_file = \"C:/Users/yacbo/Documents/Data_Engineer/Training/Manga_Project/FairyTail/FairyTail.csv\"\n",
    "log_file = \"C:/Users/yacbo/Documents/Data_Engineer/Training/Manga_Project/FairyTail/FairyTail.txt\"\n",
    "url = os.getenv(\"URL\")\n",
    "listofseason = [1,2,3,4,5,6,7,8]\n",
    "nb_ep_season = [48,48,50,25,50,39,15,50]\n",
    "number_tot_ep = sum(nb_ep_season)"
   ]
  },
  {
   "cell_type": "code",
   "execution_count": 9,
   "id": "a569be75",
   "metadata": {},
   "outputs": [],
   "source": [
    "# function to extract and transform date \n",
    "\n",
    "def extract_date(date):\n",
    "    \"\"\"Extract date from the beautiful soup..\n",
    "\n",
    "    Args:\n",
    "        date (str): String including the date extracted from beautiful soup.\n",
    "    \"\"\"\n",
    "\n",
    "    date = date.split(\",\")[1].strip()\n",
    "\n",
    "    day = int(date.split(\" \")[0])\n",
    "\n",
    "    month = int(date.split(\" \")[1].replace(\"janv.\",\"01\").replace(\"févr.\",\"02\").replace(\"mars\",\"03\").replace(\"avr.\",\"04\").replace(\"mai\",\"05\").replace(\"juin\",\"06\").replace(\"juil.\",\"07\").replace(\"août\",\"08\").replace(\"sept.\",\"09\").replace(\"oct.\",\"10\").replace(\"nov.\",\"11\").replace(\"déc.\",\"12\"))\n",
    "\n",
    "    year = int(date.split(\" \")[2])\n",
    "\n",
    "    return day,month,year"
   ]
  },
  {
   "cell_type": "markdown",
   "id": "fe29a237",
   "metadata": {},
   "source": [
    "<font color='green' size= 6 ><b>Run \"Manga_init.ipynb\"</b></font>"
   ]
  },
  {
   "cell_type": "code",
   "execution_count": 10,
   "id": "8073ed67",
   "metadata": {},
   "outputs": [],
   "source": [
    "%run C:\\Users\\yacbo\\Documents\\Data_Engineer\\Training\\Manga_Project\\Manga_init.ipynb"
   ]
  },
  {
   "cell_type": "code",
   "execution_count": 11,
   "id": "3a9c7a94",
   "metadata": {},
   "outputs": [],
   "source": [
    "if number_ep_to_extract == 0 :\n",
    "    write_to_file(log_file, f\"Program stopped because there is no data to extract\")\n",
    "    raise SystemExit(\"System stop because there is no episod to extract\")"
   ]
  },
  {
   "cell_type": "markdown",
   "id": "2d42bcef",
   "metadata": {},
   "source": [
    "<font color='green' size= 6 ><b>ETL Batching </b></font>"
   ]
  },
  {
   "cell_type": "code",
   "execution_count": 12,
   "id": "0abdb348",
   "metadata": {},
   "outputs": [],
   "source": [
    "# Run \"FairyTail_ETL.ipynb\" while there are some episods to extract\n",
    "while number_ep_to_extract > 0:   \n",
    "    nb = 0\n",
    "    for i in range(len(listofseason)):\n",
    "        nb = nb + nb_ep_season[i]\n",
    "        if nb > number_ep_database:\n",
    "            season_number = listofseason[i]\n",
    "            number_ep_season_to_extract = nb - number_ep_database\n",
    "            break\n",
    "\n",
    "    %run C:\\Users\\yacbo\\Documents\\Data_Engineer\\Training\\Manga_Project\\FairyTail\\FairyTail_ETL.ipynb\n",
    "\n",
    "    # Extract number of episod in database\n",
    "    try:\n",
    "            # Execute a query\n",
    "        cursor.execute(f\"SELECT COUNT(*) FROM {table_name}\")\n",
    "        number_ep_database = cursor.fetchall()\n",
    "        number_ep_database = int(number_ep_database[0][0])\n",
    "        write_to_file(log_file, f\"There is(are) {number_ep_database} episod(s) already in {table_name} table\")\n",
    "\n",
    "    except mysql.connector.Error as err:\n",
    "        write_to_file(log_file, f\"There is an error : {err}\")\n",
    "        # Close the database cursor and connection\n",
    "        if cursor:\n",
    "            cursor.close()\n",
    "        if cnx:\n",
    "            cnx.close()\n",
    "        raise\n",
    "\n",
    "    number_ep_to_extract = number_tot_ep - number_ep_database\n",
    "    write_to_file(log_file, f\"There is(are) {number_ep_to_extract} episod(s) to extract\")\n",
    "\n",
    "# Close the database cursor and connection\n",
    "if cursor:\n",
    "    cursor.close()\n",
    "if cnx:\n",
    "    cnx.close()"
   ]
  }
 ],
 "metadata": {
  "kernelspec": {
   "display_name": "Python 3 (ipykernel)",
   "language": "python",
   "name": "python3"
  },
  "language_info": {
   "codemirror_mode": {
    "name": "ipython",
    "version": 3
   },
   "file_extension": ".py",
   "mimetype": "text/x-python",
   "name": "python",
   "nbconvert_exporter": "python",
   "pygments_lexer": "ipython3",
   "version": "3.11.0"
  }
 },
 "nbformat": 4,
 "nbformat_minor": 5
}
